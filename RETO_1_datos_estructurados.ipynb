{
  "cells": [
    {
      "cell_type": "markdown",
      "metadata": {
        "id": "w7uKTipVLc7h"
      },
      "source": [
        "## Reto 1: Datos estructurados\n",
        "\n",
        "### 1. Objetivos:\n",
        "    - Aprender a diferenciar los diferentes tipos de datos estructurados que existen.\n",
        "\n",
        "---\n",
        "    \n",
        "### 2. Desarrollo:"
      ]
    },
    {
      "cell_type": "code",
      "execution_count": null,
      "metadata": {
        "id": "c4ncAP5yLc7i"
      },
      "outputs": [],
      "source": [
        "import pandas as pd"
      ]
    },
    {
      "cell_type": "markdown",
      "metadata": {
        "id": "lJDLt8E-Lc7i"
      },
      "source": [
        "### a) Identificando datos estructurados\n",
        "\n",
        "A continuación verás varias muestras de datos y sus descripciones. Asígnales una de las categorías de datos estructurados que acabas de aprender. Después, comparte tus hipótesis con la experta y con tus compañeros.\n",
        "\n",
        "Es muy importante saber identificar tipos de datos estructurados, porque las técnicas y estrategias que aprenderás durante este módulo suelen estar dirigidas hacia un tipo de dato específico. La elección de las mejores herramientas viene después de entender a qué tipo de dato nos estamos enfrentando."
      ]
    },
    {
      "cell_type": "markdown",
      "metadata": {
        "id": "lpjsZ6XuLc7j"
      },
      "source": [
        "#### - Muestra 1: Extraída de un conjunto de datos que contiene edades de personas"
      ]
    },
    {
      "cell_type": "code",
      "execution_count": null,
      "metadata": {
        "id": "c_3E7ecZLc7j"
      },
      "outputs": [],
      "source": [
        "edades = pd.Series([23, 34, 4, 45, 52, 59, 23, 48, 50, 49, 3, 4, 6, 8, 79, 6, 40, 17, 34, 4, 67, 97, 87, 65, 24, 4, 46])"
      ]
    },
    {
      "cell_type": "markdown",
      "metadata": {
        "id": "5f71z2sSLc7j"
      },
      "source": [
        "¿Qué tipo de dato estructurado tenemos en la serie `edades`?"
      ]
    },
    {
      "cell_type": "markdown",
      "source": [
        "Numérico discreto"
      ],
      "metadata": {
        "id": "zDe05JwNHxzT"
      }
    },
    {
      "cell_type": "markdown",
      "metadata": {
        "id": "Vk5aN6jQLc7j"
      },
      "source": [
        "#### - Muestra 2: Extraída de un conjunto de datos que contiene evaluaciones de restaurantes hechas por usuarios de una app"
      ]
    },
    {
      "cell_type": "code",
      "execution_count": null,
      "metadata": {
        "id": "GbM1qIxrLc7j"
      },
      "outputs": [],
      "source": [
        "evaluaciones = pd.Series([1, 4, 2, 2, 3, 5, 4, 4, 4, 5, 1, 2, 2, 3, 5, 2, 4, 3, 3, 1, 5, 5, 2, 4, 3, 3, 4, 4, 5, 1, 2])"
      ]
    },
    {
      "cell_type": "markdown",
      "source": [
        "Categórico ordinal"
      ],
      "metadata": {
        "id": "SaQSl2vnH1Da"
      }
    },
    {
      "cell_type": "markdown",
      "metadata": {
        "id": "PKtUzXdqLc7j"
      },
      "source": [
        "¿Qué tipo de dato estructurado tenemos en la serie `evaluaciones`?"
      ]
    },
    {
      "cell_type": "markdown",
      "metadata": {
        "id": "wzzvmZQeLc7j"
      },
      "source": [
        "#### - Muestra 3: Extraída de un conjunto de datos que contiene códigos de respuesta HTTP obtenidos al realizar llamadas constantes a una API"
      ]
    },
    {
      "cell_type": "code",
      "execution_count": null,
      "metadata": {
        "id": "f5XOdrt9Lc7k"
      },
      "outputs": [],
      "source": [
        "codigos = pd.Series([400, 400, 200, 200, 201, 200, 201, 400, 201, 404, 400, 200, 200, 201, 200, 201, 201, 500, 400, 200])"
      ]
    },
    {
      "cell_type": "markdown",
      "source": [
        "Categórico ordinal"
      ],
      "metadata": {
        "id": "qjLbxDyjH4X9"
      }
    },
    {
      "cell_type": "markdown",
      "metadata": {
        "id": "C4LnniY0Lc7k"
      },
      "source": [
        "¿Qué tipo de dato estructurado tenemos en la serie `codigos`?"
      ]
    },
    {
      "cell_type": "markdown",
      "metadata": {
        "id": "Ry8svCi0Lc7k"
      },
      "source": [
        "#### - Muestra 4: Extraída de un conjunto de datos que contiene mediciones precisas de temperaturas ambientales hechas durante un verano de la CDMX"
      ]
    },
    {
      "cell_type": "code",
      "execution_count": null,
      "metadata": {
        "id": "fk7j4sLnLc7k"
      },
      "outputs": [],
      "source": [
        "temperaturas = pd.Series([22.45, 21.34, 20.23, 20.34, 25.54, 24.34, 18.23, 19.35, 18.24, 25.5, 24.33, 20.19, 21.45, 22.45])"
      ]
    },
    {
      "cell_type": "code",
      "source": [
        "Numérico continuo"
      ],
      "metadata": {
        "id": "kYzawtWkH8V3"
      },
      "execution_count": null,
      "outputs": []
    },
    {
      "cell_type": "markdown",
      "metadata": {
        "id": "yNimdsq5Lc7k"
      },
      "source": [
        "¿Qué tipo de dato estructurado tenemos en la serie `temperaturas`?"
      ]
    },
    {
      "cell_type": "markdown",
      "metadata": {
        "id": "ztbpXinkLc7k"
      },
      "source": [
        "#### - Muestra 5: Extraída de un conjunto de datos que contiene resultados de una encuesta cuyas únicas posibles respuestas eran \"sí\" y \"no\""
      ]
    },
    {
      "cell_type": "code",
      "execution_count": null,
      "metadata": {
        "id": "SMSDnTCRLc7k"
      },
      "outputs": [],
      "source": [
        "encuesta = pd.Series([0, 0, 1, 1, 1, 0, 1, 0, 0, 0, 1, 1, 1, 0, 0, 0, 1, 0, 1, 1, 1, 1, 0, 0, 0, 1, 0, 1, 0, 1, 0, 0])"
      ]
    },
    {
      "cell_type": "markdown",
      "metadata": {
        "id": "aXsHbHw2Lc7k"
      },
      "source": [
        "¿Qué tipo de dato estructurado tenemos en la serie `encuesta`?"
      ]
    },
    {
      "cell_type": "markdown",
      "source": [
        "Categórico binario"
      ],
      "metadata": {
        "id": "xnOIVb5xIAdp"
      }
    }
  ],
  "metadata": {
    "kernelspec": {
      "display_name": "Python (data_science)",
      "language": "python",
      "name": "data_science"
    },
    "language_info": {
      "codemirror_mode": {
        "name": "ipython",
        "version": 3
      },
      "file_extension": ".py",
      "mimetype": "text/x-python",
      "name": "python",
      "nbconvert_exporter": "python",
      "pygments_lexer": "ipython3",
      "version": "3.8.5"
    },
    "colab": {
      "provenance": []
    }
  },
  "nbformat": 4,
  "nbformat_minor": 0
}