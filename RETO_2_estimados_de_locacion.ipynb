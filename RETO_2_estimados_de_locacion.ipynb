{
  "cells": [
    {
      "cell_type": "markdown",
      "metadata": {
        "id": "dT6q3qh7LmVW"
      },
      "source": [
        "## Reto 2: Estimados de locación\n",
        "\n",
        "### 1. Objetivos:\n",
        "    - Implementar los algoritmos para obtener estimados de locación sin utilizar los métodos builtin de pandas\n",
        "\n",
        "---\n",
        "    \n",
        "### 2. Desarrollo:"
      ]
    },
    {
      "cell_type": "markdown",
      "metadata": {
        "id": "Quo2g-TnLmVX"
      },
      "source": [
        "#### a) Implementando estimados de locación\n",
        "\n",
        "Este Reto va a consistir en implementar el promedio y la mediana sin utilizar los métodos `mean` y `median` que vienen incluidos en `pandas`. Implementar algoritmos desde 0 es una excelente práctica que nos ayuda a entenderlos mejor y recordarlos con más precisión.\n",
        "\n",
        "Puedes utilizar `pandas` y otras funciones vectorizadas o de reducción. Las únicas funciones que no están permitidas son `mean` y `median`. Las dos funciones que vas a crear deben recibir una serie de `pandas` y regresar un solo número."
      ]
    },
    {
      "cell_type": "code",
      "execution_count": 2,
      "metadata": {
        "id": "N9Zy3RirLmVX"
      },
      "outputs": [],
      "source": [
        "def promedio_custom(serie):\n",
        "    return serie.sum() / serie.count()\n",
        ""
      ]
    },
    {
      "cell_type": "code",
      "execution_count": 3,
      "metadata": {
        "id": "zvPfgdtDLmVX"
      },
      "outputs": [],
      "source": [
        "def mediana_custom(serie):\n",
        "    import numpy as np\n",
        "\n",
        "    serie_ordenada = serie.sort_values(ascending=True)\n",
        "    length_of_series = serie.count()\n",
        "\n",
        "    if length_of_series % 2 == 0:\n",
        "        bottom =int(length_of_series / 2)\n",
        "        top = int(bottom + 1)\n",
        "        return (serie_ordenada.iloc[bottom] + serie_ordenada.iloc[top]) / 2\n",
        "    else:\n",
        "        index = int(np.ceil(length_of_series / 2))\n",
        "        return serie_ordenada.iloc[index]\n",
        ""
      ]
    },
    {
      "cell_type": "markdown",
      "metadata": {
        "id": "NRgch0EALmVY"
      },
      "source": [
        "#### b) Estimados de locación de diámetros de meteoritos\n",
        "\n",
        "Ahora vamos a utilizar nuestras funciones custom para obtener estimados de locación de un conjunto de datos que contiene información acerca de objetos que orbitaron cerca de la Tierra durante el periodo de enero y febrero de 1995.\n",
        "\n",
        "El dataset se llama 'near_earth_objects-jan_feb_1995-clean.csv' y la columna que vamos a analizar se llama 'estimated_diameter.meters.estimated_diameter_max'. Esta columna contiene el diámetro máximo estimado de cada objeto.\n",
        "\n",
        "El reto es el siguiente:\n",
        "\n",
        "1. Lee el dataset usando `pandas`.\n",
        "2. Obtén el promedio y la mediana usando tus funciones custom y asígnalas a `promedio_diametro` y `mediana_diametro`.\n",
        "3. Corre la celda que contiene el código para verificar tus resultados.\n",
        "4. Responde la pregunta que te regresa la función de verificación."
      ]
    },
    {
      "cell_type": "code",
      "execution_count": 4,
      "metadata": {
        "id": "K8ZP9sCuLmVY",
        "colab": {
          "base_uri": "https://localhost:8080/"
        },
        "outputId": "0fb7465c-f39f-4e06-ab10-ace44f99b349"
      },
      "outputs": [
        {
          "output_type": "stream",
          "name": "stdout",
          "text": [
            "Drive already mounted at /content/drive; to attempt to forcibly remount, call drive.mount(\"/content/drive\", force_remount=True).\n"
          ]
        }
      ],
      "source": [
        "# Lee el dataset y asígnalo a esta variable\n",
        "# montar drive\n",
        "from google.colab import drive\n",
        "drive.mount('/content/drive')\n",
        "import pandas as pd\n",
        "\n",
        "df_meteoritos = pd.read_csv('/content/drive/MyDrive/Colab Notebooks/Datasets/near_earth_objects-jan_feb_1995-reto_1.csv', index_col=0)\n"
      ]
    },
    {
      "cell_type": "code",
      "execution_count": 5,
      "metadata": {
        "id": "BEypGdm_LmVY"
      },
      "outputs": [],
      "source": [
        "\n",
        "promedio_diametro = promedio_custom(df_meteoritos['estimated_diameter.meters.estimated_diameter_max'])"
      ]
    },
    {
      "cell_type": "code",
      "execution_count": 6,
      "metadata": {
        "id": "bGK13sNhLmVY"
      },
      "outputs": [],
      "source": [
        "\n",
        "mediana_diametro = mediana_custom(df_meteoritos['estimated_diameter.meters.estimated_diameter_max'])"
      ]
    },
    {
      "cell_type": "code",
      "execution_count": 10,
      "metadata": {
        "id": "JkeHJu43LmVY"
      },
      "outputs": [],
      "source": [
        "\n",
        "def verificar_resultados(df_meteoritos, promedio_diametro, mediana_diametro):\n",
        "    promedio = df_meteoritos['estimated_diameter.meters.estimated_diameter_max'].mean()\n",
        "    if promedio_diametro != promedio:\n",
        "        print(f'El promedio no fue calculado correctamente.')\n",
        "        print(f'Promedio esperado: {promedio}; Promedio recibido: {promedio_diametro}')\n",
        "        return\n",
        "\n",
        "\n",
        "    mediana = df_meteoritos['estimated_diameter.meters.estimated_diameter_max'].median()\n",
        "    if mediana_diametro != mediana:\n",
        "        print(f'La mediana no fue calculada correctamente.')\n",
        "        print(f'Mediana esperada: {mediana}; Mediana recibida: {mediana_diametro}')\n",
        "        return\n",
        "\n",
        "    print(f'Los estimados fueron calcualados correctamente.\\n')\n",
        "    print(f'El promedio calculado fue de {promedio_diametro} mientras que la mediana fue de {mediana_diametro}.')\n",
        "    print(f'¿A qué le atribuyes tú la diferencia?')"
      ]
    },
    {
      "cell_type": "markdown",
      "metadata": {
        "id": "l4znYpAlLmVZ"
      },
      "source": [
        "<details><summary>Solución</summary>\n",
        "\n",
        "```python\n",
        "def promedio_custom(serie):\n",
        "    return serie.sum() / serie.count()\n",
        "    \n",
        "def mediana_custom(serie):\n",
        "    import numpy as np\n",
        "    \n",
        "    serie_ordenada = serie.sort_values(ascending=True)\n",
        "    length_of_series = serie.count()\n",
        "    \n",
        "    if length_of_series % 2 == 0:\n",
        "        bottom =int(length_of_series / 2)\n",
        "        top = int(bottom + 1)\n",
        "        return (serie_ordenada.iloc[bottom] + serie_ordenada.iloc[top]) / 2\n",
        "    else:\n",
        "        index = int(np.ceil(length_of_series / 2))\n",
        "        return serie_ordenada.iloc[index]\n",
        "    \n",
        "import pandas as pd\n",
        "df_meteoritos = pd.read_csv('../../Datasets/near_earth_objects-jan_feb_1995-clean.csv', index_col=0)\n",
        "promedio_diametro = promedio_custom(df_meteoritos['estimated_diameter.meters.estimated_diameter_max'])\n",
        "mediana_diametro = mediana_custom(df_meteoritos['estimated_diameter.meters.estimated_diameter_max'])\n",
        "```\n",
        "    \n",
        "</details>"
      ]
    },
    {
      "cell_type": "code",
      "execution_count": null,
      "metadata": {
        "id": "5lx_XbKQLmVZ"
      },
      "outputs": [],
      "source": []
    }
  ],
  "metadata": {
    "kernelspec": {
      "display_name": "Python (data_science)",
      "language": "python",
      "name": "data_science"
    },
    "language_info": {
      "codemirror_mode": {
        "name": "ipython",
        "version": 3
      },
      "file_extension": ".py",
      "mimetype": "text/x-python",
      "name": "python",
      "nbconvert_exporter": "python",
      "pygments_lexer": "ipython3",
      "version": "3.7.6"
    },
    "colab": {
      "provenance": []
    }
  },
  "nbformat": 4,
  "nbformat_minor": 0
}